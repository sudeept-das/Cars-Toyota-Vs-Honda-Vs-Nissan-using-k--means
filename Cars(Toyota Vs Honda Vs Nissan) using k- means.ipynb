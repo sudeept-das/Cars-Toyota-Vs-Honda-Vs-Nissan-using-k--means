{
 "cells": [
  {
   "cell_type": "code",
   "execution_count": 1,
   "metadata": {},
   "outputs": [],
   "source": [
    "# importing the libraries\n",
    "import matplotlib.pyplot as plt\n",
    "import pandas as pd\n",
    "%matplotlib inline\n"
   ]
  },
  {
   "cell_type": "code",
   "execution_count": 2,
   "metadata": {},
   "outputs": [
    {
     "name": "stdout",
     "output_type": "stream",
     "text": [
      "mpg               23.144828\n",
      " cylinders         5.590038\n",
      " cubicinches     200.918919\n",
      " hp              106.360153\n",
      " weightlbs      3009.833333\n",
      " time-to-60       15.547893\n",
      " year           1976.819923\n",
      "dtype: float64\n"
     ]
    },
    {
     "name": "stderr",
     "output_type": "stream",
     "text": [
      "E:\\Anaconda\\lib\\site-packages\\ipykernel_launcher.py:6: FutureWarning: convert_objects is deprecated.  To re-infer data dtypes for object columns, use DataFrame.infer_objects()\n",
      "For all other conversions use the data-type specific converters pd.to_datetime, pd.to_timedelta and pd.to_numeric.\n",
      "  \n"
     ]
    }
   ],
   "source": [
    "# importing the dataset\n",
    "dataset = pd.read_csv('cars.csv')\n",
    "\n",
    "X = dataset[dataset.columns[:-1]]  # to take all rows but not tha last column of the dataset\n",
    "\n",
    "X = X.convert_objects(convert_numeric=True)  # To convert all data values of the dataset to numeric\n",
    "print(X.mean())"
   ]
  },
  {
   "cell_type": "code",
   "execution_count": 3,
   "metadata": {},
   "outputs": [
    {
     "name": "stdout",
     "output_type": "stream",
     "text": [
      "      mpg   cylinders   cubicinches   hp   weightlbs   time-to-60   year\n",
      "0    14.0           8         350.0  165      4209.0           12   1972\n",
      "1    31.9           4          89.0   71      1925.0           14   1980\n",
      "2    17.0           8         302.0  140      3449.0           11   1971\n",
      "3    15.0           8         400.0  150      3761.0           10   1971\n",
      "4    30.5           4          98.0   63      2051.0           17   1978\n",
      "5    23.0           8         350.0  125      3900.0           17   1980\n",
      "6    13.0           8         351.0  158      4363.0           13   1974\n",
      "7    14.0           8         440.0  215      4312.0            9   1971\n",
      "8    25.4           5         183.0   77      3530.0           20   1980\n",
      "9    37.7           4          89.0   62      2050.0           17   1982\n",
      "10   34.0           4         108.0   70      2245.0           17   1983\n",
      "11   34.3           4          97.0   78      2188.0           16   1981\n",
      "12   16.0           8         302.0  140      4141.0           14   1975\n",
      "13   11.0           8         350.0  180      3664.0           11   1974\n",
      "14   19.1           6         225.0   90      3009.0           19   1981\n",
      "15   16.9           8         350.0  155      4360.0           15   1980\n",
      "16   31.8           4          85.0   65      2020.0           19   1980\n",
      "17   16.0           8         304.0  150      3433.0           12   1971\n",
      "18   24.0           4         113.0   95      2278.0           16   1973\n",
      "19   24.0           4         107.0   90      2430.0           15   1971\n",
      "20   37.2           4          86.0   65      2019.0           16   1981\n",
      "21   21.5           4         121.0  110      2600.0           13   1978\n",
      "22   24.0           6         200.0   81      3012.0           18   1977\n",
      "23   15.5           8         351.0  142      4054.0           14   1980\n",
      "24   38.1           4          89.0   60      1968.0           19   1981\n",
      "25   33.0           4          91.0   53      1795.0           17   1977\n",
      "26   31.0           4          71.0   65      1773.0           19   1972\n",
      "27   14.0           8         351.0  148      4657.0           14   1976\n",
      "28   18.0           6         250.0   78      3574.0           21   1977\n",
      "29   29.9           4          98.0   65      2380.0           21   1982\n",
      "..    ...         ...           ...  ...         ...          ...    ...\n",
      "231  28.0           4         120.0   79      2625.0           19   1983\n",
      "232  23.0           4         140.0   78      2592.0           19   1976\n",
      "233  16.0           8         318.0  150      4498.0           15   1976\n",
      "234  20.0           4         130.0  102      3150.0           16   1977\n",
      "235  44.0           4          97.0   52      2130.0           25   1983\n",
      "236  14.0           8         318.0  150      4096.0           13   1972\n",
      "237  20.2           6         200.0   85      2965.0           16   1979\n",
      "238  39.0           4          86.0   64      1875.0           16   1982\n",
      "239  23.0           4         122.0   86      2220.0           14   1972\n",
      "240  13.0           8         350.0  145      4055.0           12   1977\n",
      "241  18.0           6         225.0  105      3121.0           17   1974\n",
      "242  16.0           8         400.0  180      4220.0           11   1978\n",
      "243  25.0           4         110.0   87      2672.0           18   1971\n",
      "244  14.0           8         454.0  220      4354.0            9   1971\n",
      "245  15.0           8         318.0  150      3399.0           11   1974\n",
      "246  19.4           8         318.0  140      3735.0           13   1979\n",
      "247  44.3           4          90.0   48      2085.0           22   1981\n",
      "248  28.0           4          97.0   75      2155.0           16   1977\n",
      "249  29.0           4         135.0   84      2525.0           16   1983\n",
      "250  32.1           4          98.0   70      2120.0           16   1981\n",
      "251  24.0           4         121.0  110      2660.0           14   1974\n",
      "252  36.4           5         121.0   67      2950.0           20   1981\n",
      "253  13.0           8         350.0  145      3988.0           13   1974\n",
      "254  23.5           6         173.0  110      2725.0           13   1982\n",
      "255  24.0           4         113.0   95      2372.0           15   1971\n",
      "256  17.0           8         305.0  130      3840.0           15   1980\n",
      "257  36.1           4          91.0   60      1800.0           16   1979\n",
      "258  22.0           6         232.0  112      2835.0           15   1983\n",
      "259  18.0           6         232.0  100      3288.0           16   1972\n",
      "260  22.0           6         250.0  105      3353.0           15   1977\n",
      "\n",
      "[261 rows x 7 columns]\n"
     ]
    }
   ],
   "source": [
    "# Eliminating null values\n",
    "for i in X.columns:\n",
    "    X[i]=X[i].fillna(int(X[i].mean()))                   # Filling data inside any missing data with the mean of all the values of that column\n",
    "\n",
    "print(X)"
   ]
  },
  {
   "cell_type": "code",
   "execution_count": 4,
   "metadata": {},
   "outputs": [
    {
     "name": "stdout",
     "output_type": "stream",
     "text": [
      "0\n",
      "0\n",
      "0\n",
      "0\n",
      "0\n",
      "0\n",
      "0\n"
     ]
    }
   ],
   "source": [
    "# Eliminating null values\n",
    "\n",
    "for i in X.columns:\n",
    "    print(X[i].isnull().sum())\n"
   ]
  },
  {
   "cell_type": "code",
   "execution_count": 8,
   "metadata": {},
   "outputs": [
    {
     "data": {
      "image/png": "[encoded data removed]",
      "text/plain": [
       "<Figure size 432x288 with 1 Axes>"
      ]
     },
     "metadata": {
      "needs_background": "light"
     },
     "output_type": "display_data"
    }
   ],
   "source": [
    "# Using the elbow method to find the optimal number of clusters\n",
    "\n",
    "from sklearn.cluster import KMeans\n",
    "\n",
    "wcss = []\n",
    "\n",
    "for i in range(1, 11):\n",
    "    kmeans = KMeans(n_clusters=i, init='k-means++', n_init=10, max_iter=300, random_state=0)\n",
    "    kmeans.fit(X)\n",
    "    wcss.append(kmeans.inertia_)\n",
    "\n",
    "plt.plot(range(0, 10), wcss)\n",
    "plt.title('The Elbow Method')\n",
    "plt.xlabel('Number of clusters')\n",
    "plt.ylabel('WCSS')\n",
    "plt.show()\n"
   ]
  },
  {
   "cell_type": "code",
   "execution_count": 9,
   "metadata": {},
   "outputs": [
    {
     "name": "stderr",
     "output_type": "stream",
     "text": [
      "E:\\Anaconda\\lib\\site-packages\\ipykernel_launcher.py:5: FutureWarning: Method .as_matrix will be removed in a future version. Use .values instead.\n",
      "  \"\"\"\n"
     ]
    },
    {
     "data": {
      "image/png": "[encoded data removed]",
      "text/plain": [
       "<Figure size 432x288 with 1 Axes>"
      ]
     },
     "metadata": {
      "needs_background": "light"
     },
     "output_type": "display_data"
    }
   ],
   "source": [
    "# Applying k-means to the car dataset\n",
    "\n",
    "kmeans = KMeans(n_clusters=3, init='k-means++', max_iter=300, n_init=10, random_state=0)\n",
    "y_kmeans = kmeans.fit_predict(X)\n",
    "X = X.as_matrix(columns=None)\n",
    "plt.scatter(X[y_kmeans == 0, 0], X[y_kmeans == 0, 1], s=100, c='red', label='Toyota')\n",
    "plt.scatter(X[y_kmeans == 1, 0], X[y_kmeans == 1, 1], s=100, c='blue', label='Nissan')\n",
    "plt.scatter(X[y_kmeans == 2, 0], X[y_kmeans == 2, 1], s=100, c='green', label='Honda')\n",
    "plt.scatter(kmeans.cluster_centers_[:, 0], kmeans.cluster_centers_[:, 1], s=300, c='yellow', label='Centroid')\n",
    "plt.title('Clusters of car make')\n",
    "plt.legend()\n",
    "plt.show()\n"
   ]
  },
  {
   "cell_type": "code",
   "execution_count": null,
   "metadata": {},
   "outputs": [],
   "source": []
  },
  {
   "cell_type": "code",
   "execution_count": null,
   "metadata": {},
   "outputs": [],
   "source": []
  },
  {
   "cell_type": "code",
   "execution_count": null,
   "metadata": {},
   "outputs": [],
   "source": []
  },
  {
   "cell_type": "code",
   "execution_count": null,
   "metadata": {},
   "outputs": [],
   "source": []
  }
 ],
 "metadata": {
  "kernelspec": {
   "display_name": "Python 3",
   "language": "python",
   "name": "python3"
  },
  "language_info": {
   "codemirror_mode": {
    "name": "ipython",
    "version": 3
   },
   "file_extension": ".py",
   "mimetype": "text/x-python",
   "name": "python",
   "nbconvert_exporter": "python",
   "pygments_lexer": "ipython3",
   "version": "3.7.3"
  }
 },
 "nbformat": 4,
 "nbformat_minor": 2
}
